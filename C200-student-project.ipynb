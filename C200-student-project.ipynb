{
 "cells": [
  {
   "cell_type": "markdown",
   "metadata": {},
   "source": [
    "# GUI APPLICATION"
   ]
  },
  {
   "cell_type": "code",
   "execution_count": 7,
   "metadata": {},
   "outputs": [
    {
     "name": "stdout",
     "output_type": "stream",
     "text": [
      "C:/Users/oof17/Downloads/ADV-C200-Student-20210204T052338Z-001/ADV-C200-Student/heart_failure_clinical_records_dataset.csv\n"
     ]
    },
    {
     "ename": "NameError",
     "evalue": "name 'groupby_dataframe' is not defined",
     "output_type": "error",
     "traceback": [
      "\u001b[1;31m---------------------------------------------------------------------------\u001b[0m",
      "\u001b[1;31mNameError\u001b[0m                                 Traceback (most recent call last)",
      "Input \u001b[1;32mIn [7]\u001b[0m, in \u001b[0;36mselect_files\u001b[1;34m(b)\u001b[0m\n\u001b[0;32m     30\u001b[0m operation_col_widgets \u001b[38;5;241m=\u001b[39m widgets\u001b[38;5;241m.\u001b[39mDropdown(options\u001b[38;5;241m=\u001b[39mdf\u001b[38;5;241m.\u001b[39mcolumns)\n\u001b[0;32m     31\u001b[0m operation_widgets \u001b[38;5;241m=\u001b[39m widgets\u001b[38;5;241m.\u001b[39mDropdown(options\u001b[38;5;241m=\u001b[39msort_option)\n\u001b[1;32m---> 32\u001b[0m groupby_int \u001b[38;5;241m=\u001b[39m widgets\u001b[38;5;241m.\u001b[39minteractive(\u001b[43mgroupby_dataframe\u001b[49m,groupby_column \u001b[38;5;241m=\u001b[39m groupby_col_widgets,\n\u001b[0;32m     33\u001b[0m                                 operation_column \u001b[38;5;241m=\u001b[39m operation_col_widgets, sort_option \u001b[38;5;241m=\u001b[39m operation_widgets)\n\u001b[0;32m     34\u001b[0m display(groupby_int)\n",
      "\u001b[1;31mNameError\u001b[0m: name 'groupby_dataframe' is not defined"
     ]
    }
   ],
   "source": [
    "#start of predefine code\n",
    "from ipywidgets import widgets\n",
    "from IPython.display import display, clear_output\n",
    "import pandas as pd\n",
    "from tkinter import Tk, filedialog\n",
    "import matplotlib.pyplot as plt \n",
    "import numpy as np\n",
    "graph_type = ['Choose one.. ','bubble','bar']\n",
    "funtionality = ['Choose One','Sort','Filter']\n",
    "sort_option = ['ascending','descending']\n",
    "df = ''\n",
    "new_df = ''\n",
    "input_box = ''\n",
    "input_fontsize = ''\n",
    "input_title = ''\n",
    "#end of predefine code\n",
    "\n",
    "def select_files(b):\n",
    "    clear_output()\n",
    "    global df\n",
    "    root = Tk()\n",
    "    root.withdraw() \n",
    "    file_name = filedialog.askopenfilename()\n",
    "    df = pd.read_csv(file_name)\n",
    "    print(file_name)\n",
    "    df.replace(\"\",float(\"nan\"),inplace=True)\n",
    "    df.replace(\"0\",float(\"nan\"),inplace=True)\n",
    "    df=df.dropna()\n",
    "    groupby_col_widgets = widgets.Dropdown(options=df.columns)\n",
    "    operation_col_widgets = widgets.Dropdown(options=df.columns)\n",
    "    operation_widgets = widgets.Dropdown(options=sort_option)\n",
    "    groupby_int = widgets.interactive(groupby_dataframe,groupby_column = groupby_col_widgets,\n",
    "                                    operation_column = operation_col_widgets, sort_option = operation_widgets)\n",
    "    display(groupby_int)\n",
    "\n",
    "\n",
    "\n",
    "#start of predefine code \n",
    "def display_plot(xaxis, yaxis, graph_type):\n",
    "    global new_df\n",
    "    global input_title\n",
    "    global input_fontsize\n",
    "    if(graph_type == 'bubble'):\n",
    "        plt.subplots(figsize=(19,8))\n",
    "        rgb = np.random.rand(3)\n",
    "        #Write Condition here\n",
    "\n",
    "        #End of write condition here \n",
    "        plt.title(input_title.value, fontsize=input_fontsize.value)\n",
    "        plt.xlabel(xaxis, fontsize=input_fontsize.value)\n",
    "        plt.xticks(rotation='vertical')\n",
    "        plt.ylabel(yaxis, fontsize=input_fontsize.value)\n",
    "        plt.show()\n",
    "    elif(graph_type == 'bar'):\n",
    "        plt.subplots(figsize=(19,8))\n",
    "        plt.bar(new_df[xaxis], new_df[yaxis], color=['red', 'green','blue','yellow','pink'])\n",
    "        plt.title(input_title.value, fontsize=input_fontsize.value)\n",
    "        plt.xlabel(xaxis, fontsize=input_fontsize.value)\n",
    "        plt.xticks(rotation='vertical')\n",
    "        plt.ylabel(yaxis, fontsize=input_fontsize.value)\n",
    "        plt.show()\n",
    "    else:\n",
    "        print(\"Choose valid graph\")\n",
    "fileselect = widgets.Button(description=\"File select\")\n",
    "fileselect.on_click(select_files)\n",
    "display(fileselect)\n",
    "#end of predefined\n"
   ]
  },
  {
   "cell_type": "code",
   "execution_count": null,
   "metadata": {},
   "outputs": [],
   "source": []
  },
  {
   "cell_type": "code",
   "execution_count": null,
   "metadata": {},
   "outputs": [],
   "source": []
  }
 ],
 "metadata": {
  "kernelspec": {
   "display_name": "Python 3 (ipykernel)",
   "language": "python",
   "name": "python3"
  },
  "language_info": {
   "codemirror_mode": {
    "name": "ipython",
    "version": 3
   },
   "file_extension": ".py",
   "mimetype": "text/x-python",
   "name": "python",
   "nbconvert_exporter": "python",
   "pygments_lexer": "ipython3",
   "version": "3.9.12"
  }
 },
 "nbformat": 4,
 "nbformat_minor": 4
}
